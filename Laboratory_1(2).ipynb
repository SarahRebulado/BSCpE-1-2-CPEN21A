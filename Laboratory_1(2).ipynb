{
  "nbformat": 4,
  "nbformat_minor": 0,
  "metadata": {
    "colab": {
      "name": "Laboratory 1(2).ipynb",
      "provenance": [],
      "authorship_tag": "ABX9TyNsMHEnuT9wVPVq7+DUsQct",
      "include_colab_link": true
    },
    "kernelspec": {
      "name": "python3",
      "display_name": "Python 3"
    },
    "language_info": {
      "name": "python"
    }
  },
  "cells": [
    {
      "cell_type": "markdown",
      "metadata": {
        "id": "view-in-github",
        "colab_type": "text"
      },
      "source": [
        "<a href=\"https://colab.research.google.com/github/SarahRebulado/BSCpE-1-2-CPEN21A/blob/main/Laboratory_1(2).ipynb\" target=\"_parent\"><img src=\"https://colab.research.google.com/assets/colab-badge.svg\" alt=\"Open In Colab\"/></a>"
      ]
    },
    {
      "cell_type": "markdown",
      "metadata": {
        "id": "s1fyMwnA6qfy"
      },
      "source": [
        "###Laboratory 1"
      ]
    },
    {
      "cell_type": "code",
      "metadata": {
        "colab": {
          "base_uri": "https://localhost:8080/"
        },
        "id": "SHF1vaW-6V_A",
        "outputId": "63b35ee2-9842-4389-97c2-7dbc4ff4a4a6"
      },
      "source": [
        "###This is a comment\n",
        "print(\"Welcome to Python Programming\")\n",
        "name= input(\"What is your name?:\")\n",
        "age= int(input(\"Age:\"))\n",
        "address= input(\"Address:\")\n",
        "\n",
        "print(name)\n",
        "print(age)\n",
        "print(address)"
      ],
      "execution_count": 3,
      "outputs": [
        {
          "output_type": "stream",
          "name": "stdout",
          "text": [
            "Welcome to Python Programming\n",
            "What is your name?:Sarah O. Rebulado\n",
            "Age:18\n",
            "Address:Woodcress Phase 7 Lancaster State, Barangay Tapia, Gen. Trias, Cavite\n",
            "Sarah O. Rebulado\n",
            "18\n",
            "Woodcress Phase 7 Lancaster State, Barangay Tapia, Gen. Trias, Cavite\n"
          ]
        }
      ]
    }
  ]
}