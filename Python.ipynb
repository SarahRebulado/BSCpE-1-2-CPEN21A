{
  "nbformat": 4,
  "nbformat_minor": 0,
  "metadata": {
    "colab": {
      "name": "Untitled1.ipynb",
      "provenance": [],
      "authorship_tag": "ABX9TyNHHqHqCc0eF6ax8puU/PaR",
      "include_colab_link": true
    },
    "kernelspec": {
      "name": "python3",
      "display_name": "Python 3"
    },
    "language_info": {
      "name": "python"
    }
  },
  "cells": [
    {
      "cell_type": "markdown",
      "metadata": {
        "id": "view-in-github",
        "colab_type": "text"
      },
      "source": [
        "<a href=\"https://colab.research.google.com/github/SarahRebulado/BSCpE-1-2-CPEN21A/blob/main/Python.ipynb\" target=\"_parent\"><img src=\"https://colab.research.google.com/assets/colab-badge.svg\" alt=\"Open In Colab\"/></a>"
      ]
    },
    {
      "cell_type": "markdown",
      "metadata": {
        "id": "OWYBecg9GPQ-"
      },
      "source": [
        "###Python Indentation"
      ]
    },
    {
      "cell_type": "code",
      "metadata": {
        "colab": {
          "base_uri": "https://localhost:8080/"
        },
        "id": "ZdvV7c7RFz4b",
        "outputId": "427f97aa-3891-4129-df90-ba1dc9411335"
      },
      "source": [
        "if 5>2:\n",
        "  print(\"Hello I am Sarah\")"
      ],
      "execution_count": 2,
      "outputs": [
        {
          "output_type": "stream",
          "name": "stdout",
          "text": [
            "Hello I am Sarah\n"
          ]
        }
      ]
    },
    {
      "cell_type": "markdown",
      "metadata": {
        "id": "yxC3iyDeOT2K"
      },
      "source": [
        "###Python Comments"
      ]
    },
    {
      "cell_type": "code",
      "metadata": {
        "colab": {
          "base_uri": "https://localhost:8080/"
        },
        "id": "p4NUlW1tJcp0",
        "outputId": "0e7ca021-6c9e-46d7-c5b8-1c5167fed379"
      },
      "source": [
        "#This is a comment\n",
        "print(\"Good evening\")"
      ],
      "execution_count": 4,
      "outputs": [
        {
          "output_type": "stream",
          "name": "stdout",
          "text": [
            "Good evening\n"
          ]
        }
      ]
    },
    {
      "cell_type": "markdown",
      "metadata": {
        "id": "gjegqqWhObn-"
      },
      "source": [
        "###Python Variable"
      ]
    },
    {
      "cell_type": "code",
      "metadata": {
        "colab": {
          "base_uri": "https://localhost:8080/"
        },
        "id": "MmY-lHJ-Jz9c",
        "outputId": "f03780aa-db26-4c93-8f75-f20fa0f07bb2"
      },
      "source": [
        "x=1 #This is a type of string\n",
        "x,y=1,2 \n",
        "x,y,z=1,2,3\n",
        "print(x)\n",
        "print(y)\n",
        "print(z)"
      ],
      "execution_count": 5,
      "outputs": [
        {
          "output_type": "stream",
          "name": "stdout",
          "text": [
            "1\n",
            "2\n",
            "3\n"
          ]
        }
      ]
    },
    {
      "cell_type": "markdown",
      "metadata": {
        "id": "XtjhxQSuO1MC"
      },
      "source": [
        "###Casting"
      ]
    },
    {
      "cell_type": "code",
      "metadata": {
        "colab": {
          "base_uri": "https://localhost:8080/"
        },
        "id": "1plvSOwrK6aM",
        "outputId": "910b18cf-fa42-46f8-be7e-18b7274d1f2b"
      },
      "source": [
        "b=int(4) #This is a type of string\n",
        "print(b)\n",
        "b=float(4)\n",
        "print(b)"
      ],
      "execution_count": 10,
      "outputs": [
        {
          "output_type": "stream",
          "name": "stdout",
          "text": [
            "4\n",
            "4.0\n"
          ]
        }
      ]
    },
    {
      "cell_type": "markdown",
      "metadata": {
        "id": "1nPDD3ERO83Q"
      },
      "source": [
        "###Type()function"
      ]
    },
    {
      "cell_type": "code",
      "metadata": {
        "colab": {
          "base_uri": "https://localhost:8080/"
        },
        "id": "F_m4_8C8LL1u",
        "outputId": "62184e8f-89b8-4024-a918-636c9a118628"
      },
      "source": [
        "x=1\n",
        "x=2\n",
        "print(type(x))\n",
        "print(type(y))"
      ],
      "execution_count": 9,
      "outputs": [
        {
          "output_type": "stream",
          "name": "stdout",
          "text": [
            "<class 'int'>\n",
            "<class 'int'>\n"
          ]
        }
      ]
    },
    {
      "cell_type": "markdown",
      "metadata": {
        "id": "xFmn6JcXPEPm"
      },
      "source": [
        ""
      ]
    },
    {
      "cell_type": "markdown",
      "metadata": {
        "id": "zff33n_ZPJ2l"
      },
      "source": [
        "###Multiple Variables"
      ]
    },
    {
      "cell_type": "code",
      "metadata": {
        "colab": {
          "base_uri": "https://localhost:8080/"
        },
        "id": "z9o0QsViL6ij",
        "outputId": "dbaa63e3-c92c-4ab5-b9fc-dab67dffa13f"
      },
      "source": [
        "x, y, z=1,2,3\n",
        "print(x)\n",
        "print(y)\n",
        "print(z)"
      ],
      "execution_count": 11,
      "outputs": [
        {
          "output_type": "stream",
          "name": "stdout",
          "text": [
            "1\n",
            "2\n",
            "3\n"
          ]
        }
      ]
    },
    {
      "cell_type": "markdown",
      "metadata": {
        "id": "aGXXrog1PQXr"
      },
      "source": [
        "###Output Variables"
      ]
    },
    {
      "cell_type": "code",
      "metadata": {
        "colab": {
          "base_uri": "https://localhost:8080/"
        },
        "id": "NJaLvj0mMSFY",
        "outputId": "913f6003-86ce-42cb-b2ef-3be62075dd98"
      },
      "source": [
        "x=\"enjoying\"\n",
        "print(\"Python programming is\" \" \"+x)"
      ],
      "execution_count": 15,
      "outputs": [
        {
          "output_type": "stream",
          "name": "stdout",
          "text": [
            "Python programming is enjoying\n"
          ]
        }
      ]
    },
    {
      "cell_type": "markdown",
      "metadata": {
        "id": "9t9OuObEPTRC"
      },
      "source": [
        "###Arithmetic Operations"
      ]
    },
    {
      "cell_type": "code",
      "metadata": {
        "colab": {
          "base_uri": "https://localhost:8080/"
        },
        "id": "WTLI8hJ1MoqB",
        "outputId": "ab240275-6ee2-4f01-d103-1c9d33e50f83"
      },
      "source": [
        "x=10\n",
        "y=12\n",
        "print(x+y)"
      ],
      "execution_count": 17,
      "outputs": [
        {
          "output_type": "stream",
          "name": "stdout",
          "text": [
            "22\n"
          ]
        }
      ]
    },
    {
      "cell_type": "markdown",
      "metadata": {
        "id": "xGhcOiHfPb5z"
      },
      "source": [
        "###Comparison Operators"
      ]
    },
    {
      "cell_type": "code",
      "metadata": {
        "colab": {
          "base_uri": "https://localhost:8080/"
        },
        "id": "7qGoQSjwM0S1",
        "outputId": "2990ca8e-26b9-47d6-8ad1-37e41a6f065d"
      },
      "source": [
        "x=10\n",
        "y=12\n",
        "x==y"
      ],
      "execution_count": 18,
      "outputs": [
        {
          "output_type": "execute_result",
          "data": {
            "text/plain": [
              "False"
            ]
          },
          "metadata": {},
          "execution_count": 18
        }
      ]
    }
  ]
}