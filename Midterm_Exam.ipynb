{
  "nbformat": 4,
  "nbformat_minor": 0,
  "metadata": {
    "colab": {
      "name": "Midterm Exam.ipynb",
      "provenance": [],
      "authorship_tag": "ABX9TyONQ1m/h/JdyIOSCixIf2pq",
      "include_colab_link": true
    },
    "kernelspec": {
      "name": "python3",
      "display_name": "Python 3"
    },
    "language_info": {
      "name": "python"
    }
  },
  "cells": [
    {
      "cell_type": "markdown",
      "metadata": {
        "id": "view-in-github",
        "colab_type": "text"
      },
      "source": [
        "<a href=\"https://colab.research.google.com/github/SarahRebulado/BSCpE-1-2-CPEN21A/blob/main/Midterm_Exam.ipynb\" target=\"_parent\"><img src=\"https://colab.research.google.com/assets/colab-badge.svg\" alt=\"Open In Colab\"/></a>"
      ]
    },
    {
      "cell_type": "markdown",
      "metadata": {
        "id": "kJ06jHspB6Zy"
      },
      "source": [
        "##Problem Statement 1"
      ]
    },
    {
      "cell_type": "code",
      "metadata": {
        "colab": {
          "base_uri": "https://localhost:8080/"
        },
        "id": "e6A6B_hkBuXs",
        "outputId": "aae4eda9-d8a8-47ad-ff9b-8850537bfca0"
      },
      "source": [
        "name= \"Sarah Oaña Rebulado\"\n",
        "SN= \"202101811\"\n",
        "age= \"18 years old\"\n",
        "birthday= \"February 12, 2003\"\n",
        "Address= \"Block 18, Lot 4, Woodcress Phase 7 Lancaster State, Barangay Tapia, General Trias Cavite\"\n",
        "Course= \"Bachelor of Science in Computer Engineering\"\n",
        "gwa= \"95\" #previous GWA in Grade 12\n",
        "\n",
        "print(\"Name: \"+ name)\n",
        "print(\"Student Number: \"+ SN)\n",
        "print(\"Age: \"+age)\n",
        "print(\"Birthday: \"+birthday)\n",
        "print(\"Address: \"+ Address)\n",
        "print(\"Course: \"+ Course)\n",
        "print(\"GWA: \"+gwa)"
      ],
      "execution_count": 55,
      "outputs": [
        {
          "output_type": "stream",
          "name": "stdout",
          "text": [
            "Name: Sarah Oaña Rebulado\n",
            "Student Number: 202101811\n",
            "Age: 18 years old\n",
            "Birthday: February 12, 2003\n",
            "Address: Block 18, Lot 4, Woodcress Phase 7 Lancaster State, Barangay Tapia, General Trias Cavite\n",
            "Course: Bachelor of Science in Computer Engineering\n",
            "GWA: 95\n"
          ]
        }
      ]
    },
    {
      "cell_type": "markdown",
      "metadata": {
        "id": "yfFF6ShPFavn"
      },
      "source": [
        "###Problem Statement 2"
      ]
    },
    {
      "cell_type": "code",
      "metadata": {
        "colab": {
          "base_uri": "https://localhost:8080/"
        },
        "id": "gaBdMjtTFZPo",
        "outputId": "5572d6b9-52aa-4899-c549-9da5390b1f7f"
      },
      "source": [
        "n= 4\n",
        "answ= \"Y\"\n",
        "\n",
        "a= (2<n) and (n<6)\n",
        "b= (2<n) or (n==6)\n",
        "c= not(2<n) or (n==6)\n",
        "d= not(n<6)\n",
        "e= answ == \"Y\" or answ == \"y\"\n",
        "f= answ == \"Y\" and answ == \"y\"\n",
        "g= not(answ == \"y\")\n",
        "h= (2<n and n==5+1) or answ ==\"No\"\n",
        "i= (n == 2 and  n  ==7) or answ ==\"Y\"\n",
        "j= n==2 and (n==7 or answ ==\"Y\")\n",
        "\n",
        "print(f\"a. {a}\")\n",
        "print(f\"b. {b}\")\n",
        "print(f\"c. {c}\")\n",
        "print(f\"d. {d}\")\n",
        "print(f\"e. {f}\")\n",
        "print(f\"g. {h}\")\n",
        "print(f\"i. {i}\")\n",
        "print(f\"j. {j}\")"
      ],
      "execution_count": 49,
      "outputs": [
        {
          "output_type": "stream",
          "name": "stdout",
          "text": [
            "a. True\n",
            "b. True\n",
            "c. False\n",
            "d. False\n",
            "e. False\n",
            "g. False\n",
            "i. True\n",
            "j. False\n"
          ]
        }
      ]
    },
    {
      "cell_type": "markdown",
      "metadata": {
        "id": "YIO5MSSVMR8r"
      },
      "source": [
        "###Problem Statement 3"
      ]
    },
    {
      "cell_type": "code",
      "metadata": {
        "colab": {
          "base_uri": "https://localhost:8080/"
        },
        "id": "LlY6tOabF_DV",
        "outputId": "95f3f234-764b-4623-efb1-d2facad87a50"
      },
      "source": [
        "x= 2\n",
        "y= -3\n",
        "w= 7\n",
        "z= 10\n",
        "\n",
        "a= x/y\n",
        "b= w/y/x\n",
        "c= z/y%x\n",
        "d= x%y*w\n",
        "e= x%y\n",
        "f= z%w-y/x*5+5\n",
        "g= 9-x%(2+y)\n",
        "h= z//w\n",
        "i= (2+y)**2\n",
        "j= w/x*2\n",
        "\n",
        "print(f\"a. {a}\")\n",
        "print(f\"b. {b}\")\n",
        "print(f\"c. {c}\")\n",
        "print(f\"d. {d}\")\n",
        "print(f\"e. {e}\")\n",
        "print(f\"f. {f}\")\n",
        "print(f\"g. {g}\")\n",
        "print(f\"h. {h}\")\n",
        "print(f\"i. {i}\")\n",
        "print(f\"j. {j}\")"
      ],
      "execution_count": 52,
      "outputs": [
        {
          "output_type": "stream",
          "name": "stdout",
          "text": [
            "a. -0.6666666666666666\n",
            "b. -1.1666666666666667\n",
            "c. 0.6666666666666665\n",
            "d. -7\n",
            "e. -1\n",
            "f. 15.5\n",
            "g. 9\n",
            "h. 1\n",
            "i. 1\n",
            "j. 7.0\n"
          ]
        }
      ]
    }
  ]
}