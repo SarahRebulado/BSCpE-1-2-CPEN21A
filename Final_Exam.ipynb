{
  "nbformat": 4,
  "nbformat_minor": 0,
  "metadata": {
    "colab": {
      "name": "Final Exam.ipynb",
      "provenance": [],
      "authorship_tag": "ABX9TyOZ8Cg+VGfYJH6r5hIZBTXA",
      "include_colab_link": true
    },
    "kernelspec": {
      "name": "python3",
      "display_name": "Python 3"
    },
    "language_info": {
      "name": "python"
    }
  },
  "cells": [
    {
      "cell_type": "markdown",
      "metadata": {
        "id": "view-in-github",
        "colab_type": "text"
      },
      "source": [
        "<a href=\"https://colab.research.google.com/github/SarahRebulado/BSCpE-1-2-CPEN21A/blob/main/Final_Exam.ipynb\" target=\"_parent\"><img src=\"https://colab.research.google.com/assets/colab-badge.svg\" alt=\"Open In Colab\"/></a>"
      ]
    },
    {
      "cell_type": "markdown",
      "source": [
        "##Problem Statement 1"
      ],
      "metadata": {
        "id": "XhhIUGLdWSAc"
      }
    },
    {
      "cell_type": "code",
      "execution_count": null,
      "metadata": {
        "colab": {
          "base_uri": "https://localhost:8080/"
        },
        "id": "FcgMUYw0WMJ1",
        "outputId": "24c707b2-03d4-4d7e-9d72-5cd5b8037df0"
      },
      "outputs": [
        {
          "output_type": "stream",
          "name": "stdout",
          "text": [
            "Enter a Number: -5\n",
            "Enter a Number: 1\n",
            "Enter a Number: -12\n",
            "Enter a Number: -16\n",
            "Enter a Number: 3\n",
            "Enter a Number: -2\n",
            "Enter a Number: 4\n",
            "Enter a Number: -20\n",
            "Enter a Number: -19\n",
            "Enter a Number: -12\n",
            "Sum of ten numbers less than 5:  -78\n"
          ]
        }
      ],
      "source": [
        "sum=0\n",
        "for n in range(0,10):\n",
        "  n=int(input(\"Enter a Number: \"))\n",
        "\n",
        "  if n>=5:\n",
        "    print(\"Invalid number, Enter a number less than 5\")\n",
        "    break\n",
        "\n",
        "  elif n<5: \n",
        "    sum=n+sum\n",
        "print(\"Sum of ten numbers less than 5: \", sum)"
      ]
    },
    {
      "cell_type": "markdown",
      "source": [
        "##Problem Statement 2"
      ],
      "metadata": {
        "id": "E-GAAvF9Wkt5"
      }
    },
    {
      "cell_type": "code",
      "source": [
        "counter=0\n",
        "num=[]\n",
        "\n",
        "while True:\n",
        "  if counter ==5:\n",
        "    print(\"The sum of first and last number= \", num[0]+num[-1])\n",
        "    break\n",
        "  \n",
        "  else:\n",
        "    x= int(input(\"Enter a number: \"))\n",
        "    num.append(x)\n",
        "    counter= counter+1"
      ],
      "metadata": {
        "colab": {
          "base_uri": "https://localhost:8080/"
        },
        "id": "xq1AB7TqWncr",
        "outputId": "0427d740-52f7-468e-ca53-3edd7ab08351"
      },
      "execution_count": null,
      "outputs": [
        {
          "output_type": "stream",
          "name": "stdout",
          "text": [
            "Enter a number: 12\n",
            "Enter a number: 5\n",
            "Enter a number: 4\n",
            "Enter a number: 12\n",
            "Enter a number: 7\n",
            "The sum of first and last number=  19\n"
          ]
        }
      ]
    },
    {
      "cell_type": "markdown",
      "source": [
        "##Problem Statement 3"
      ],
      "metadata": {
        "id": "1sFhDk8-W187"
      }
    },
    {
      "cell_type": "code",
      "source": [
        "#1st Sem Grade per Subject\n",
        "GNED08= float(input(\"Type GNED08 Grade: \"))\n",
        "CPEN21= float(input(\"Type CPEN21 Grade: \"))\n",
        "MATH1= float(input(\"Type MATH1 Grade: \"))\n",
        "CHEM14= float(input(\"Type CHEM14 Grade: \"))\n",
        "GNED03= float(input(\"Type GNED03 Grade: \"))\n",
        "FITT1= float(input(\"Type FITT1 Grade: \"))\n",
        "GNED11= float(input(\"Type GNED11 Grade: \"))\n",
        "CVSU101= float(input(\"Type CVSU101 Grade: \"))\n",
        "CPEN50= float(input(\"Type CPEN50 Grade: \"))\n",
        "NSTP1= float(input(\"Type NSTP1 Grade: \"))\n",
        "\n",
        "S= [GNED08, CPEN21, MATH1, CHEM14, GNED03, FITT1, GNED11, CVSU101, CPEN50, NSTP1]\n",
        "total=0\n",
        "total=GNED08+CPEN21+MATH1+CHEM14+GNED03+FITT1+GNED11+CVSU101+CPEN50+NSTP1\n",
        "A=total/10\n",
        "\n",
        "if A>=90: \n",
        "  Character_Grade=\"A\"\n",
        "else:\n",
        "  if 89>=A>=80:\n",
        "    Character_Grade=\"B\"\n",
        "  else:\n",
        "    if 79>=A>=70:\n",
        "      Character_Grade=\"C\"\n",
        "    else:\n",
        "      if 69>=A>=60:\n",
        "        Character_Grade=\"D\"\n",
        "      else:\n",
        "        if A<=60:\n",
        "          Character_Grade=\"F\"\n",
        "          5\n",
        "\n",
        "print(\"Total Average: \", A)\n",
        "print(\"Equivalent Character Grade: \", Character_Grade) #Character Grade of the total average"
      ],
      "metadata": {
        "colab": {
          "base_uri": "https://localhost:8080/"
        },
        "id": "lH2auY6_WxNP",
        "outputId": "3cf85001-8f62-4f29-a6d2-8267be9ee555"
      },
      "execution_count": 3,
      "outputs": [
        {
          "output_type": "stream",
          "name": "stdout",
          "text": [
            "Type GNED08 Grade: 99\n",
            "Type CPEN21 Grade: 96\n",
            "Type MATH1 Grade: 98.50\n",
            "Type CHEM14 Grade: 99\n",
            "Type GNED03 Grade: 94\n",
            "Type FITT1 Grade: 97\n",
            "Type GNED11 Grade: 97.50\n",
            "Type CVSU101 Grade: 96\n",
            "Type CPEN50 Grade: 97\n",
            "Type NSTP1 Grade: 97.80\n",
            "Total Average:  97.17999999999999\n",
            "Equivalent Character Grade:  A\n"
          ]
        }
      ]
    }
  ]
}