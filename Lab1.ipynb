{
  "nbformat": 4,
  "nbformat_minor": 0,
  "metadata": {
    "colab": {
      "name": "Lab1.ipynb",
      "provenance": [],
      "authorship_tag": "ABX9TyPZLkVGuM+rEcatbG9KXyrH",
      "include_colab_link": true
    },
    "kernelspec": {
      "name": "python3",
      "display_name": "Python 3"
    },
    "language_info": {
      "name": "python"
    }
  },
  "cells": [
    {
      "cell_type": "markdown",
      "metadata": {
        "id": "view-in-github",
        "colab_type": "text"
      },
      "source": [
        "<a href=\"https://colab.research.google.com/github/SarahRebulado/BSCpE-1-2-CPEN21A/blob/main/Lab1.ipynb\" target=\"_parent\"><img src=\"https://colab.research.google.com/assets/colab-badge.svg\" alt=\"Open In Colab\"/></a>"
      ]
    },
    {
      "cell_type": "markdown",
      "metadata": {
        "id": "1qr1K2naA8O6"
      },
      "source": [
        "#Laboratory 1"
      ]
    },
    {
      "cell_type": "code",
      "metadata": {
        "id": "ucaRKWjX8EEE",
        "colab": {
          "base_uri": "https://localhost:8080/"
        },
        "outputId": "5f15c7c5-9a6a-400b-bf90-a5ebb17e7d56"
      },
      "source": [
        "print(\"Welcome to Python Programming\")\n"
      ],
      "execution_count": 5,
      "outputs": [
        {
          "output_type": "stream",
          "name": "stdout",
          "text": [
            "Welcome to Python Programming\n"
          ]
        }
      ]
    },
    {
      "cell_type": "markdown",
      "metadata": {
        "id": "OhPJMNyB_crV"
      },
      "source": [
        "####Name\n",
        "\n"
      ]
    },
    {
      "cell_type": "code",
      "metadata": {
        "colab": {
          "base_uri": "https://localhost:8080/"
        },
        "id": "lAeF3U0S_bbF",
        "outputId": "f2b74ce6-80cb-46c6-d48a-4a8f056454b5"
      },
      "source": [
        "name=\"Sarah O.Rebulado\"\n",
        "print(\"Name: \" + name )"
      ],
      "execution_count": 2,
      "outputs": [
        {
          "output_type": "stream",
          "name": "stdout",
          "text": [
            "Name: Sarah O.Rebulado\n"
          ]
        }
      ]
    },
    {
      "cell_type": "markdown",
      "metadata": {
        "id": "CHLx8DDm_-SR"
      },
      "source": [
        "###Age"
      ]
    },
    {
      "cell_type": "code",
      "metadata": {
        "colab": {
          "base_uri": "https://localhost:8080/"
        },
        "id": "ouBnd_g1AQRq",
        "outputId": "06f18231-f72b-472a-88fa-8377e5985f8f"
      },
      "source": [
        "age=\"18 years old\"\n",
        "print(\"Age:  \" +age)"
      ],
      "execution_count": 3,
      "outputs": [
        {
          "output_type": "stream",
          "name": "stdout",
          "text": [
            "Age:  18 years old\n"
          ]
        }
      ]
    },
    {
      "cell_type": "markdown",
      "metadata": {
        "id": "44Ynd0AdAbLr"
      },
      "source": [
        "###Address"
      ]
    },
    {
      "cell_type": "code",
      "metadata": {
        "colab": {
          "base_uri": "https://localhost:8080/"
        },
        "id": "3Z93IbdPAeFS",
        "outputId": "d53531a2-fab9-4b64-9568-eade17b321a4"
      },
      "source": [
        "address=\"Woodcress Phase 7 Lancaster State, Barangay Tapia, Gen. Trias, Cavite\"\n",
        "print(\"Address:  \" +address)"
      ],
      "execution_count": 4,
      "outputs": [
        {
          "output_type": "stream",
          "name": "stdout",
          "text": [
            "Address:  Woodcress Phase 7 Lancaster State, Barangay Tapia, Gen. Trias, Cavite\n"
          ]
        }
      ]
    }
  ]
}